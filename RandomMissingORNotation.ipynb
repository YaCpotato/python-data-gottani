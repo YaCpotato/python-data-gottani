{
  "nbformat": 4,
  "nbformat_minor": 0,
  "metadata": {
    "colab": {
      "name": "RandomMissingORNotation.ipynb",
      "provenance": [],
      "authorship_tag": "ABX9TyOqj1Xy5Wxs624SvjfpYdSg",
      "include_colab_link": true
    },
    "kernelspec": {
      "name": "python3",
      "display_name": "Python 3"
    }
  },
  "cells": [
    {
      "cell_type": "markdown",
      "metadata": {
        "id": "view-in-github",
        "colab_type": "text"
      },
      "source": [
        "<a href=\"https://colab.research.google.com/github/YaCpotato/python-data-gottani/blob/master/RandomMissingORNotation.ipynb\" target=\"_parent\"><img src=\"https://colab.research.google.com/assets/colab-badge.svg\" alt=\"Open In Colab\"/></a>"
      ]
    },
    {
      "cell_type": "code",
      "metadata": {
        "id": "s9eC0UkLiGuv",
        "colab_type": "code",
        "colab": {}
      },
      "source": [
        "import numpy as np\n",
        "import pandas as pd"
      ],
      "execution_count": 2,
      "outputs": []
    },
    {
      "cell_type": "code",
      "metadata": {
        "id": "dWfeZ58qiJdZ",
        "colab_type": "code",
        "colab": {}
      },
      "source": [
        "sample_data = np.random.rand(100, 10)\n",
        "sample_dataset = pd.DataFrame(sample_data)"
      ],
      "execution_count": 62,
      "outputs": []
    },
    {
      "cell_type": "code",
      "metadata": {
        "id": "V3b_7CWjgQTi",
        "colab_type": "code",
        "colab": {}
      },
      "source": [
        "def random_missing(target_df,column):\n",
        "  \"\"\"\n",
        "  Input   target_df : Dataframe, \n",
        "          column : Number  Column that you'd like to missing randomly\n",
        "  \n",
        "  Output  Dataframe that missing randomly\n",
        "  \"\"\"\n",
        "  target_index = np.random.choice(target_df.index)\n",
        "  target_df.loc[target_index, column] = None\n",
        "  return target_df"
      ],
      "execution_count": 66,
      "outputs": []
    },
    {
      "cell_type": "code",
      "metadata": {
        "id": "_KXwowM8jPba",
        "colab_type": "code",
        "colab": {
          "base_uri": "https://localhost:8080/",
          "height": 419
        },
        "outputId": "bb34b767-3506-4952-aac7-2c90e6cc65a0"
      },
      "source": [
        "random_missing(sample_dataset,3)"
      ],
      "execution_count": 67,
      "outputs": [
        {
          "output_type": "execute_result",
          "data": {
            "text/html": [
              "<div>\n",
              "<style scoped>\n",
              "    .dataframe tbody tr th:only-of-type {\n",
              "        vertical-align: middle;\n",
              "    }\n",
              "\n",
              "    .dataframe tbody tr th {\n",
              "        vertical-align: top;\n",
              "    }\n",
              "\n",
              "    .dataframe thead th {\n",
              "        text-align: right;\n",
              "    }\n",
              "</style>\n",
              "<table border=\"1\" class=\"dataframe\">\n",
              "  <thead>\n",
              "    <tr style=\"text-align: right;\">\n",
              "      <th></th>\n",
              "      <th>0</th>\n",
              "      <th>1</th>\n",
              "      <th>2</th>\n",
              "      <th>3</th>\n",
              "      <th>4</th>\n",
              "      <th>5</th>\n",
              "      <th>6</th>\n",
              "      <th>7</th>\n",
              "      <th>8</th>\n",
              "      <th>9</th>\n",
              "    </tr>\n",
              "  </thead>\n",
              "  <tbody>\n",
              "    <tr>\n",
              "      <th>0</th>\n",
              "      <td>0.970336</td>\n",
              "      <td>0.261267</td>\n",
              "      <td>0.547001</td>\n",
              "      <td>0.460635</td>\n",
              "      <td>0.682294</td>\n",
              "      <td>0.812702</td>\n",
              "      <td>0.799840</td>\n",
              "      <td>0.588837</td>\n",
              "      <td>0.491393</td>\n",
              "      <td>0.785191</td>\n",
              "    </tr>\n",
              "    <tr>\n",
              "      <th>1</th>\n",
              "      <td>0.914521</td>\n",
              "      <td>0.388687</td>\n",
              "      <td>0.821310</td>\n",
              "      <td>0.590525</td>\n",
              "      <td>0.637064</td>\n",
              "      <td>0.878332</td>\n",
              "      <td>0.644871</td>\n",
              "      <td>0.379034</td>\n",
              "      <td>0.665362</td>\n",
              "      <td>0.420259</td>\n",
              "    </tr>\n",
              "    <tr>\n",
              "      <th>2</th>\n",
              "      <td>0.230738</td>\n",
              "      <td>0.160431</td>\n",
              "      <td>0.116535</td>\n",
              "      <td>0.497501</td>\n",
              "      <td>0.590814</td>\n",
              "      <td>0.483887</td>\n",
              "      <td>0.416150</td>\n",
              "      <td>0.411597</td>\n",
              "      <td>0.887204</td>\n",
              "      <td>0.352183</td>\n",
              "    </tr>\n",
              "    <tr>\n",
              "      <th>3</th>\n",
              "      <td>0.629587</td>\n",
              "      <td>0.903982</td>\n",
              "      <td>0.297004</td>\n",
              "      <td>0.100804</td>\n",
              "      <td>0.875869</td>\n",
              "      <td>0.900036</td>\n",
              "      <td>0.345730</td>\n",
              "      <td>0.964433</td>\n",
              "      <td>0.876892</td>\n",
              "      <td>0.857393</td>\n",
              "    </tr>\n",
              "    <tr>\n",
              "      <th>4</th>\n",
              "      <td>0.773764</td>\n",
              "      <td>0.398709</td>\n",
              "      <td>0.009118</td>\n",
              "      <td>0.243587</td>\n",
              "      <td>0.255886</td>\n",
              "      <td>0.872374</td>\n",
              "      <td>0.960338</td>\n",
              "      <td>0.266697</td>\n",
              "      <td>0.101427</td>\n",
              "      <td>0.220315</td>\n",
              "    </tr>\n",
              "    <tr>\n",
              "      <th>...</th>\n",
              "      <td>...</td>\n",
              "      <td>...</td>\n",
              "      <td>...</td>\n",
              "      <td>...</td>\n",
              "      <td>...</td>\n",
              "      <td>...</td>\n",
              "      <td>...</td>\n",
              "      <td>...</td>\n",
              "      <td>...</td>\n",
              "      <td>...</td>\n",
              "    </tr>\n",
              "    <tr>\n",
              "      <th>95</th>\n",
              "      <td>0.646634</td>\n",
              "      <td>0.982012</td>\n",
              "      <td>0.664902</td>\n",
              "      <td>0.513829</td>\n",
              "      <td>0.310552</td>\n",
              "      <td>0.582379</td>\n",
              "      <td>0.668373</td>\n",
              "      <td>0.721039</td>\n",
              "      <td>0.448617</td>\n",
              "      <td>0.449335</td>\n",
              "    </tr>\n",
              "    <tr>\n",
              "      <th>96</th>\n",
              "      <td>0.054575</td>\n",
              "      <td>0.098667</td>\n",
              "      <td>0.587613</td>\n",
              "      <td>NaN</td>\n",
              "      <td>0.230462</td>\n",
              "      <td>0.607022</td>\n",
              "      <td>0.953380</td>\n",
              "      <td>0.291237</td>\n",
              "      <td>0.818520</td>\n",
              "      <td>0.736974</td>\n",
              "    </tr>\n",
              "    <tr>\n",
              "      <th>97</th>\n",
              "      <td>0.481086</td>\n",
              "      <td>0.959383</td>\n",
              "      <td>0.204279</td>\n",
              "      <td>0.608344</td>\n",
              "      <td>0.634226</td>\n",
              "      <td>0.088004</td>\n",
              "      <td>0.666143</td>\n",
              "      <td>0.687096</td>\n",
              "      <td>0.670970</td>\n",
              "      <td>0.692811</td>\n",
              "    </tr>\n",
              "    <tr>\n",
              "      <th>98</th>\n",
              "      <td>0.407398</td>\n",
              "      <td>0.941140</td>\n",
              "      <td>0.816376</td>\n",
              "      <td>0.969035</td>\n",
              "      <td>0.266701</td>\n",
              "      <td>0.017687</td>\n",
              "      <td>0.365618</td>\n",
              "      <td>0.065287</td>\n",
              "      <td>0.990921</td>\n",
              "      <td>0.613446</td>\n",
              "    </tr>\n",
              "    <tr>\n",
              "      <th>99</th>\n",
              "      <td>0.545985</td>\n",
              "      <td>0.999453</td>\n",
              "      <td>0.441139</td>\n",
              "      <td>0.415528</td>\n",
              "      <td>0.794930</td>\n",
              "      <td>0.724235</td>\n",
              "      <td>0.918391</td>\n",
              "      <td>0.298860</td>\n",
              "      <td>0.060047</td>\n",
              "      <td>0.645717</td>\n",
              "    </tr>\n",
              "  </tbody>\n",
              "</table>\n",
              "<p>100 rows × 10 columns</p>\n",
              "</div>"
            ],
            "text/plain": [
              "           0         1         2  ...         7         8         9\n",
              "0   0.970336  0.261267  0.547001  ...  0.588837  0.491393  0.785191\n",
              "1   0.914521  0.388687  0.821310  ...  0.379034  0.665362  0.420259\n",
              "2   0.230738  0.160431  0.116535  ...  0.411597  0.887204  0.352183\n",
              "3   0.629587  0.903982  0.297004  ...  0.964433  0.876892  0.857393\n",
              "4   0.773764  0.398709  0.009118  ...  0.266697  0.101427  0.220315\n",
              "..       ...       ...       ...  ...       ...       ...       ...\n",
              "95  0.646634  0.982012  0.664902  ...  0.721039  0.448617  0.449335\n",
              "96  0.054575  0.098667  0.587613  ...  0.291237  0.818520  0.736974\n",
              "97  0.481086  0.959383  0.204279  ...  0.687096  0.670970  0.692811\n",
              "98  0.407398  0.941140  0.816376  ...  0.065287  0.990921  0.613446\n",
              "99  0.545985  0.999453  0.441139  ...  0.298860  0.060047  0.645717\n",
              "\n",
              "[100 rows x 10 columns]"
            ]
          },
          "metadata": {
            "tags": []
          },
          "execution_count": 67
        }
      ]
    },
    {
      "cell_type": "code",
      "metadata": {
        "id": "GII0hBxSjkxS",
        "colab_type": "code",
        "colab": {
          "base_uri": "https://localhost:8080/",
          "height": 306
        },
        "outputId": "aea4433e-9561-414f-f9c9-f1bdc3dc4fde"
      },
      "source": [
        "sample_dataset.info()"
      ],
      "execution_count": 68,
      "outputs": [
        {
          "output_type": "stream",
          "text": [
            "<class 'pandas.core.frame.DataFrame'>\n",
            "RangeIndex: 100 entries, 0 to 99\n",
            "Data columns (total 10 columns):\n",
            " #   Column  Non-Null Count  Dtype  \n",
            "---  ------  --------------  -----  \n",
            " 0   0       100 non-null    float64\n",
            " 1   1       100 non-null    float64\n",
            " 2   2       100 non-null    float64\n",
            " 3   3       97 non-null     float64\n",
            " 4   4       100 non-null    float64\n",
            " 5   5       100 non-null    float64\n",
            " 6   6       100 non-null    float64\n",
            " 7   7       100 non-null    float64\n",
            " 8   8       100 non-null    float64\n",
            " 9   9       100 non-null    float64\n",
            "dtypes: float64(10)\n",
            "memory usage: 7.9 KB\n"
          ],
          "name": "stdout"
        }
      ]
    },
    {
      "cell_type": "code",
      "metadata": {
        "id": "XuVqSVrQelb-",
        "colab_type": "code",
        "colab": {}
      },
      "source": [
        ""
      ],
      "execution_count": null,
      "outputs": []
    }
  ]
}